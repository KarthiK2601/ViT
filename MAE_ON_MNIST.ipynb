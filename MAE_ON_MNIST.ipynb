{
  "nbformat": 4,
  "nbformat_minor": 0,
  "metadata": {
    "colab": {
      "provenance": [],
      "authorship_tag": "ABX9TyNTdFLqAYsrcUylK6pcSutA",
      "include_colab_link": true
    },
    "kernelspec": {
      "name": "python3",
      "display_name": "Python 3"
    },
    "language_info": {
      "name": "python"
    }
  },
  "cells": [
    {
      "cell_type": "markdown",
      "metadata": {
        "id": "view-in-github",
        "colab_type": "text"
      },
      "source": [
        "<a href=\"https://colab.research.google.com/github/KarthiK2601/ViT/blob/main/MAE_ON_MNIST.ipynb\" target=\"_parent\"><img src=\"https://colab.research.google.com/assets/colab-badge.svg\" alt=\"Open In Colab\"/></a>"
      ]
    },
    {
      "cell_type": "code",
      "execution_count": 1,
      "metadata": {
        "colab": {
          "base_uri": "https://localhost:8080/",
          "height": 1000
        },
        "id": "2tleJsgY1zW9",
        "outputId": "d3d256b6-ecee-4641-d7ae-5f29697cd50f"
      },
      "outputs": [
        {
          "output_type": "stream",
          "name": "stdout",
          "text": [
            "Downloading http://yann.lecun.com/exdb/mnist/train-images-idx3-ubyte.gz\n",
            "Downloading http://yann.lecun.com/exdb/mnist/train-images-idx3-ubyte.gz to ./data/MNIST/raw/train-images-idx3-ubyte.gz\n"
          ]
        },
        {
          "output_type": "stream",
          "name": "stderr",
          "text": [
            "100%|██████████| 9912422/9912422 [00:00<00:00, 126896040.86it/s]\n"
          ]
        },
        {
          "output_type": "stream",
          "name": "stdout",
          "text": [
            "Extracting ./data/MNIST/raw/train-images-idx3-ubyte.gz to ./data/MNIST/raw\n",
            "\n",
            "Downloading http://yann.lecun.com/exdb/mnist/train-labels-idx1-ubyte.gz\n",
            "Downloading http://yann.lecun.com/exdb/mnist/train-labels-idx1-ubyte.gz to ./data/MNIST/raw/train-labels-idx1-ubyte.gz\n"
          ]
        },
        {
          "output_type": "stream",
          "name": "stderr",
          "text": [
            "100%|██████████| 28881/28881 [00:00<00:00, 97690075.66it/s]"
          ]
        },
        {
          "output_type": "stream",
          "name": "stdout",
          "text": [
            "Extracting ./data/MNIST/raw/train-labels-idx1-ubyte.gz to ./data/MNIST/raw\n",
            "\n",
            "Downloading http://yann.lecun.com/exdb/mnist/t10k-images-idx3-ubyte.gz\n"
          ]
        },
        {
          "output_type": "stream",
          "name": "stderr",
          "text": [
            "\n"
          ]
        },
        {
          "output_type": "stream",
          "name": "stdout",
          "text": [
            "Downloading http://yann.lecun.com/exdb/mnist/t10k-images-idx3-ubyte.gz to ./data/MNIST/raw/t10k-images-idx3-ubyte.gz\n"
          ]
        },
        {
          "output_type": "stream",
          "name": "stderr",
          "text": [
            "100%|██████████| 1648877/1648877 [00:00<00:00, 37749056.51it/s]\n"
          ]
        },
        {
          "output_type": "stream",
          "name": "stdout",
          "text": [
            "Extracting ./data/MNIST/raw/t10k-images-idx3-ubyte.gz to ./data/MNIST/raw\n",
            "\n",
            "Downloading http://yann.lecun.com/exdb/mnist/t10k-labels-idx1-ubyte.gz\n",
            "Downloading http://yann.lecun.com/exdb/mnist/t10k-labels-idx1-ubyte.gz to ./data/MNIST/raw/t10k-labels-idx1-ubyte.gz\n"
          ]
        },
        {
          "output_type": "stream",
          "name": "stderr",
          "text": [
            "100%|██████████| 4542/4542 [00:00<00:00, 14918190.11it/s]"
          ]
        },
        {
          "output_type": "stream",
          "name": "stdout",
          "text": [
            "Extracting ./data/MNIST/raw/t10k-labels-idx1-ubyte.gz to ./data/MNIST/raw\n",
            "\n"
          ]
        },
        {
          "output_type": "stream",
          "name": "stderr",
          "text": [
            "\n"
          ]
        },
        {
          "output_type": "stream",
          "name": "stdout",
          "text": [
            "epoch [1/10], loss:0.1415\n",
            "epoch [2/10], loss:0.1378\n",
            "epoch [3/10], loss:0.1345\n",
            "epoch [4/10], loss:0.1378\n",
            "epoch [5/10], loss:0.1324\n",
            "epoch [6/10], loss:0.1247\n",
            "epoch [7/10], loss:0.1202\n",
            "epoch [8/10], loss:0.1363\n",
            "epoch [9/10], loss:0.1300\n",
            "epoch [10/10], loss:0.1257\n",
            "Accuracy: 0.5035\n"
          ]
        },
        {
          "output_type": "display_data",
          "data": {
            "text/plain": [
              "<Figure size 1000x1000 with 4 Axes>"
            ],
            "image/png": "[encoded data removed]"
          },
          "metadata": {}
        },
        {
          "output_type": "stream",
          "name": "stdout",
          "text": [
            "Accuracy: 0.5019\n",
            "Accuracy: 0.4975\n",
            "Accuracy: 0.4664\n",
            "Accuracy: 0.4893\n",
            "Accuracy: 0.5114\n",
            "Accuracy: 0.5045\n",
            "Accuracy: 0.4776\n",
            "Accuracy: 0.4454\n",
            "Accuracy: 0.4860\n",
            "Accuracy: 0.5011\n",
            "Accuracy: 0.4650\n",
            "Accuracy: 0.4998\n",
            "Accuracy: 0.4561\n",
            "Accuracy: 0.5009\n",
            "Accuracy: 0.5162\n",
            "Accuracy: 0.4469\n",
            "Accuracy: 0.4597\n",
            "Accuracy: 0.4847\n",
            "Accuracy: 0.4488\n",
            "Accuracy: 0.4928\n",
            "Accuracy: 0.4424\n",
            "Accuracy: 0.4710\n",
            "Accuracy: 0.4993\n",
            "Accuracy: 0.4490\n",
            "Accuracy: 0.4984\n",
            "Accuracy: 0.4893\n",
            "Accuracy: 0.5238\n",
            "Accuracy: 0.4433\n",
            "Accuracy: 0.4651\n",
            "Accuracy: 0.4958\n",
            "Accuracy: 0.4734\n",
            "Accuracy: 0.4940\n",
            "Accuracy: 0.4689\n",
            "Accuracy: 0.4726\n",
            "Accuracy: 0.4637\n",
            "Accuracy: 0.4778\n",
            "Accuracy: 0.4834\n",
            "Accuracy: 0.4080\n",
            "Accuracy: 0.4905\n",
            "Accuracy: 0.4794\n",
            "Accuracy: 0.4937\n",
            "Accuracy: 0.4699\n",
            "Accuracy: 0.4716\n",
            "Accuracy: 0.4748\n",
            "Accuracy: 0.4969\n",
            "Accuracy: 0.4606\n",
            "Accuracy: 0.4706\n",
            "Accuracy: 0.4784\n",
            "Accuracy: 0.4507\n",
            "Accuracy: 0.4928\n",
            "Accuracy: 0.4664\n",
            "Accuracy: 0.5057\n",
            "Accuracy: 0.4579\n",
            "Accuracy: 0.4556\n",
            "Accuracy: 0.4961\n",
            "Accuracy: 0.4724\n",
            "Accuracy: 0.4783\n",
            "Accuracy: 0.4537\n",
            "Accuracy: 0.4746\n",
            "Accuracy: 0.4613\n",
            "Accuracy: 0.5240\n",
            "Accuracy: 0.5039\n",
            "Accuracy: 0.4370\n",
            "Accuracy: 0.4747\n",
            "Accuracy: 0.5123\n",
            "Accuracy: 0.5220\n",
            "Accuracy: 0.5162\n",
            "Accuracy: 0.4798\n",
            "Accuracy: 0.4743\n",
            "Accuracy: 0.4844\n",
            "Accuracy: 0.4758\n",
            "Accuracy: 0.4799\n",
            "Accuracy: 0.4757\n",
            "Accuracy: 0.4584\n",
            "Accuracy: 0.4734\n",
            "Accuracy: 0.4907\n",
            "Accuracy: 0.5101\n",
            "Accuracy: 0.4796\n",
            "Accuracy: 0.4666\n",
            "Accuracy: 0.5200\n",
            "Accuracy: 0.4499\n",
            "Accuracy: 0.4563\n",
            "Accuracy: 0.5128\n",
            "Accuracy: 0.4715\n",
            "Accuracy: 0.4853\n",
            "Accuracy: 0.4655\n",
            "Accuracy: 0.4789\n",
            "Accuracy: 0.4824\n",
            "Accuracy: 0.4683\n",
            "Accuracy: 0.4778\n",
            "Accuracy: 0.4842\n",
            "Accuracy: 0.5043\n",
            "Accuracy: 0.4889\n",
            "Accuracy: 0.4957\n",
            "Accuracy: 0.4518\n",
            "Accuracy: 0.4825\n",
            "Accuracy: 0.4232\n",
            "Accuracy: 0.4686\n",
            "Accuracy: 0.5005\n",
            "Accuracy: 0.5087\n",
            "Accuracy: 0.4903\n",
            "Accuracy: 0.4570\n",
            "Accuracy: 0.4908\n",
            "Accuracy: 0.4878\n",
            "Accuracy: 0.4689\n",
            "Accuracy: 0.4871\n",
            "Accuracy: 0.4662\n",
            "Accuracy: 0.4390\n",
            "Accuracy: 0.4858\n",
            "Accuracy: 0.4651\n",
            "Accuracy: 0.4758\n",
            "Accuracy: 0.4487\n",
            "Accuracy: 0.4995\n",
            "Accuracy: 0.5188\n",
            "Accuracy: 0.4077\n",
            "Accuracy: 0.4824\n",
            "Accuracy: 0.4929\n",
            "Accuracy: 0.4449\n",
            "Accuracy: 0.4900\n",
            "Accuracy: 0.4661\n",
            "Accuracy: 0.4587\n",
            "Accuracy: 0.4853\n",
            "Accuracy: 0.4689\n",
            "Accuracy: 0.4669\n",
            "Accuracy: 0.4924\n",
            "Accuracy: 0.4270\n",
            "Accuracy: 0.4606\n",
            "Accuracy: 0.5184\n",
            "Accuracy: 0.4906\n",
            "Accuracy: 0.4383\n",
            "Accuracy: 0.4338\n",
            "Accuracy: 0.4594\n",
            "Accuracy: 0.4676\n",
            "Accuracy: 0.4763\n",
            "Accuracy: 0.4656\n",
            "Accuracy: 0.4651\n",
            "Accuracy: 0.4809\n",
            "Accuracy: 0.4612\n",
            "Accuracy: 0.4440\n",
            "Accuracy: 0.4842\n",
            "Accuracy: 0.4654\n",
            "Accuracy: 0.4684\n",
            "Accuracy: 0.4909\n",
            "Accuracy: 0.4771\n",
            "Accuracy: 0.4681\n",
            "Accuracy: 0.4894\n",
            "Accuracy: 0.4519\n",
            "Accuracy: 0.4726\n",
            "Accuracy: 0.4486\n",
            "Accuracy: 0.4466\n",
            "Accuracy: 0.4596\n",
            "Accuracy: 0.4751\n",
            "Accuracy: 0.4752\n",
            "Accuracy: 0.4955\n",
            "Accuracy: 0.4744\n",
            "Accuracy: 0.5108\n"
          ]
        }
      ],
      "source": [
        "import torch\n",
        "from torch import nn\n",
        "from torchvision import datasets, transforms\n",
        "from torch.utils.data import DataLoader\n",
        "import numpy as np\n",
        "import matplotlib.pyplot as plt\n",
        "\n",
        "# Load MNIST dataset\n",
        "transform = transforms.Compose([\n",
        "    transforms.ToTensor(),\n",
        "    transforms.Normalize((0.1307,), (0.3081,))\n",
        "])\n",
        "\n",
        "train_dataset = datasets.MNIST('./data', train=True, download=True, transform=transform)\n",
        "test_dataset = datasets.MNIST('./data', train=False, transform=transform)\n",
        "\n",
        "train_loader = DataLoader(train_dataset, batch_size=64, shuffle=True)\n",
        "test_loader = DataLoader(test_dataset, batch_size=64, shuffle=True)\n",
        "\n",
        "# Define model\n",
        "class MaskedAutoencoder(nn.Module):\n",
        "    def __init__(self):\n",
        "        super(MaskedAutoencoder, self).__init__()\n",
        "        self.encoder = nn.Sequential(\n",
        "            nn.Linear(28 * 28, 128),\n",
        "            nn.ReLU(),\n",
        "            nn.Linear(128, 64),\n",
        "            nn.ReLU(),\n",
        "            nn.Linear(64, 12),\n",
        "            nn.ReLU(),\n",
        "            nn.Linear(12, 3)\n",
        "        )\n",
        "        self.decoder = nn.Sequential(\n",
        "            nn.Linear(3, 12),\n",
        "            nn.ReLU(),\n",
        "            nn.Linear(12, 64),\n",
        "            nn.ReLU(),\n",
        "            nn.Linear(64, 128),\n",
        "            nn.ReLU(),\n",
        "            nn.Linear(128, 28 * 28),\n",
        "            nn.Tanh()\n",
        "        )\n",
        "\n",
        "    def forward(self, x):\n",
        "        x = self.encoder(x)\n",
        "        x = self.decoder(x)\n",
        "        return x\n",
        "\n",
        "model = MaskedAutoencoder()\n",
        "\n",
        "# Define loss and optimizer\n",
        "criterion = nn.MSELoss()\n",
        "optimizer = torch.optim.Adam(model.parameters(), lr=1e-3)\n",
        "\n",
        "# Train model\n",
        "for epoch in range(10):\n",
        "    for data in train_loader:\n",
        "        img, _ = data\n",
        "        img = img.view(img.size(0), -1)\n",
        "\n",
        "        # Create a mask with 25% of the pixels visible\n",
        "        mask = torch.from_numpy(np.random.choice([0, 1], size=img.shape, p=[.75, .25])).float()\n",
        "\n",
        "        # Apply the mask to the image\n",
        "        img_masked = img * mask\n",
        "\n",
        "        img_masked.requires_grad_()\n",
        "        output = model(img_masked)\n",
        "\n",
        "        # Calculate loss only for the unmasked pixels\n",
        "        loss = criterion(output * mask, img * mask)\n",
        "\n",
        "        optimizer.zero_grad()\n",
        "        loss.backward()\n",
        "        optimizer.step()\n",
        "    print('epoch [{}/{}], loss:{:.4f}'.format(epoch+1, 10, loss.item()))\n",
        "\n",
        "\n",
        "# Test model\n",
        "model.eval()\n",
        "with torch.no_grad():\n",
        "    for i, data in enumerate(test_loader):\n",
        "        img, _ = data\n",
        "        img = img.view(img.size(0), -1)\n",
        "\n",
        "        # Create a mask with 25% of the pixels visible\n",
        "        mask = torch.from_numpy(np.random.choice([0, 1], size=img.shape, p=[.75, .25])).float()\n",
        "\n",
        "        # Apply the mask to the image\n",
        "        img_masked = img * mask\n",
        "\n",
        "        # Generate the output\n",
        "        output = model(img_masked)\n",
        "\n",
        "        # Calculate the accuracy as 1 - normalized MSE\n",
        "        accuracy = 1 - criterion(output, img)\n",
        "\n",
        "        print(f'Accuracy: {accuracy.item():.4f}')\n",
        "\n",
        "        # Visualize the result on the first image in the batch\n",
        "        if i == 0:\n",
        "            img = img[0].view(28, 28)\n",
        "            img_masked = img_masked[0].view(28, 28)\n",
        "            output = output[0].view(28, 28)\n",
        "            composite = output * mask[0].view(28, 28) + img_masked\n",
        "\n",
        "            plt.figure(figsize=(10, 10))\n",
        "\n",
        "            plt.subplot(1, 4, 1)\n",
        "            plt.imshow(img, cmap='gray')\n",
        "            plt.title('Original Image')\n",
        "\n",
        "            plt.subplot(1, 4, 2)\n",
        "            plt.imshow(img_masked, cmap='gray')\n",
        "            plt.title('Masked Image')\n",
        "\n",
        "            plt.subplot(1, 4, 3)\n",
        "            plt.imshow(output, cmap='gray')\n",
        "            plt.title('Reconstruction')\n",
        "\n",
        "            plt.subplot(1, 4, 4)\n",
        "            plt.imshow(composite, cmap='gray')\n",
        "            plt.title('Reconstruction + Visible')\n",
        "\n",
        "            plt.show()\n",
        "\n"
      ]
    },
    {
      "cell_type": "code",
      "source": [
        "import random\n",
        "import matplotlib.pyplot as plt\n",
        "\n",
        "# Set the model to evaluation mode\n",
        "model.eval()\n",
        "\n",
        "# Pick a random image from the test dataset\n",
        "random_index = random.randint(0, len(test_dataset) - 1)\n",
        "img, _ = test_dataset[random_index]\n",
        "\n",
        "# Reshape and normalize the image\n",
        "img = img.view(1, -1)\n",
        "\n",
        "# Create a mask with 25% of the pixels visible\n",
        "mask = torch.from_numpy(np.random.choice([0, 1], size=img.shape, p=[.75, .25])).float()\n",
        "\n",
        "# Apply the mask to the image\n",
        "img_masked = img * mask\n",
        "\n",
        "# Generate the output from the model\n",
        "with torch.no_grad():\n",
        "    output = model(img_masked)\n",
        "\n",
        "# Calculate the accuracy as 1 - normalized MSE\n",
        "accuracy = 1 - criterion(output, img)\n",
        "\n",
        "print(f'Accuracy: {accuracy.item():.4f}')\n",
        "\n",
        "# Visualize the original image, masked image, reconstruction, and composite\n",
        "img = img.view(28, 28)\n",
        "img_masked = img_masked.view(28, 28)\n",
        "output = output.view(28, 28)\n",
        "composite = output * mask.view(28, 28) + img_masked\n",
        "\n",
        "plt.figure(figsize=(10, 10))\n",
        "\n",
        "plt.subplot(1, 4, 1)\n",
        "plt.imshow(img, cmap='gray')\n",
        "plt.title('Original Image')\n",
        "\n",
        "plt.subplot(1, 4, 2)\n",
        "plt.imshow(img_masked, cmap='gray')\n",
        "plt.title('Masked Image')\n",
        "\n",
        "plt.subplot(1, 4, 3)\n",
        "plt.imshow(output, cmap='gray')\n",
        "plt.title('Reconstruction')\n",
        "\n",
        "plt.subplot(1, 4, 4)\n",
        "plt.imshow(composite, cmap='gray')\n",
        "plt.title('Reconstruction + Visible')\n",
        "\n",
        "plt.show()\n"
      ],
      "metadata": {
        "colab": {
          "base_uri": "https://localhost:8080/",
          "height": 269
        },
        "id": "WG1yU7i1xWW1",
        "outputId": "c15101ef-5ac3-4a4e-c3ef-2150321994ba"
      },
      "execution_count": 5,
      "outputs": [
        {
          "output_type": "stream",
          "name": "stdout",
          "text": [
            "Accuracy: 0.6321\n"
          ]
        },
        {
          "output_type": "display_data",
          "data": {
            "text/plain": [
              "<Figure size 1000x1000 with 4 Axes>"
            ],
            "image/png": "[encoded data removed]"
          },
          "metadata": {}
        }
      ]
    }
  ]
}